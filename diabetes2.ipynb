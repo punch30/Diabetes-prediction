{
 "cells": [
  {
   "cell_type": "code",
   "execution_count": 1,
   "metadata": {},
   "outputs": [],
   "source": [
    "import numpy as np\n",
    "import pandas as pd"
   ]
  },
  {
   "cell_type": "code",
   "execution_count": 2,
   "metadata": {},
   "outputs": [
    {
     "data": {
      "text/html": [
       "<div>\n",
       "<style scoped>\n",
       "    .dataframe tbody tr th:only-of-type {\n",
       "        vertical-align: middle;\n",
       "    }\n",
       "\n",
       "    .dataframe tbody tr th {\n",
       "        vertical-align: top;\n",
       "    }\n",
       "\n",
       "    .dataframe thead th {\n",
       "        text-align: right;\n",
       "    }\n",
       "</style>\n",
       "<table border=\"1\" class=\"dataframe\">\n",
       "  <thead>\n",
       "    <tr style=\"text-align: right;\">\n",
       "      <th></th>\n",
       "      <th>0</th>\n",
       "      <th>1</th>\n",
       "      <th>2</th>\n",
       "      <th>3</th>\n",
       "      <th>4</th>\n",
       "      <th>5</th>\n",
       "      <th>6</th>\n",
       "      <th>7</th>\n",
       "      <th>8</th>\n",
       "    </tr>\n",
       "  </thead>\n",
       "  <tbody>\n",
       "    <tr>\n",
       "      <th>count</th>\n",
       "      <td>768.000000</td>\n",
       "      <td>768.000000</td>\n",
       "      <td>768.000000</td>\n",
       "      <td>768.000000</td>\n",
       "      <td>768.000000</td>\n",
       "      <td>768.000000</td>\n",
       "      <td>768.000000</td>\n",
       "      <td>768.000000</td>\n",
       "      <td>768.000000</td>\n",
       "    </tr>\n",
       "    <tr>\n",
       "      <th>mean</th>\n",
       "      <td>3.845052</td>\n",
       "      <td>120.894531</td>\n",
       "      <td>69.105469</td>\n",
       "      <td>20.536458</td>\n",
       "      <td>79.799479</td>\n",
       "      <td>31.992578</td>\n",
       "      <td>0.471876</td>\n",
       "      <td>33.240885</td>\n",
       "      <td>0.348958</td>\n",
       "    </tr>\n",
       "    <tr>\n",
       "      <th>std</th>\n",
       "      <td>3.369578</td>\n",
       "      <td>31.972618</td>\n",
       "      <td>19.355807</td>\n",
       "      <td>15.952218</td>\n",
       "      <td>115.244002</td>\n",
       "      <td>7.884160</td>\n",
       "      <td>0.331329</td>\n",
       "      <td>11.760232</td>\n",
       "      <td>0.476951</td>\n",
       "    </tr>\n",
       "    <tr>\n",
       "      <th>min</th>\n",
       "      <td>0.000000</td>\n",
       "      <td>0.000000</td>\n",
       "      <td>0.000000</td>\n",
       "      <td>0.000000</td>\n",
       "      <td>0.000000</td>\n",
       "      <td>0.000000</td>\n",
       "      <td>0.078000</td>\n",
       "      <td>21.000000</td>\n",
       "      <td>0.000000</td>\n",
       "    </tr>\n",
       "    <tr>\n",
       "      <th>25%</th>\n",
       "      <td>1.000000</td>\n",
       "      <td>99.000000</td>\n",
       "      <td>62.000000</td>\n",
       "      <td>0.000000</td>\n",
       "      <td>0.000000</td>\n",
       "      <td>27.300000</td>\n",
       "      <td>0.243750</td>\n",
       "      <td>24.000000</td>\n",
       "      <td>0.000000</td>\n",
       "    </tr>\n",
       "    <tr>\n",
       "      <th>50%</th>\n",
       "      <td>3.000000</td>\n",
       "      <td>117.000000</td>\n",
       "      <td>72.000000</td>\n",
       "      <td>23.000000</td>\n",
       "      <td>30.500000</td>\n",
       "      <td>32.000000</td>\n",
       "      <td>0.372500</td>\n",
       "      <td>29.000000</td>\n",
       "      <td>0.000000</td>\n",
       "    </tr>\n",
       "    <tr>\n",
       "      <th>75%</th>\n",
       "      <td>6.000000</td>\n",
       "      <td>140.250000</td>\n",
       "      <td>80.000000</td>\n",
       "      <td>32.000000</td>\n",
       "      <td>127.250000</td>\n",
       "      <td>36.600000</td>\n",
       "      <td>0.626250</td>\n",
       "      <td>41.000000</td>\n",
       "      <td>1.000000</td>\n",
       "    </tr>\n",
       "    <tr>\n",
       "      <th>max</th>\n",
       "      <td>17.000000</td>\n",
       "      <td>199.000000</td>\n",
       "      <td>122.000000</td>\n",
       "      <td>99.000000</td>\n",
       "      <td>846.000000</td>\n",
       "      <td>67.100000</td>\n",
       "      <td>2.420000</td>\n",
       "      <td>81.000000</td>\n",
       "      <td>1.000000</td>\n",
       "    </tr>\n",
       "  </tbody>\n",
       "</table>\n",
       "</div>"
      ],
      "text/plain": [
       "                0           1           2           3           4           5  \\\n",
       "count  768.000000  768.000000  768.000000  768.000000  768.000000  768.000000   \n",
       "mean     3.845052  120.894531   69.105469   20.536458   79.799479   31.992578   \n",
       "std      3.369578   31.972618   19.355807   15.952218  115.244002    7.884160   \n",
       "min      0.000000    0.000000    0.000000    0.000000    0.000000    0.000000   \n",
       "25%      1.000000   99.000000   62.000000    0.000000    0.000000   27.300000   \n",
       "50%      3.000000  117.000000   72.000000   23.000000   30.500000   32.000000   \n",
       "75%      6.000000  140.250000   80.000000   32.000000  127.250000   36.600000   \n",
       "max     17.000000  199.000000  122.000000   99.000000  846.000000   67.100000   \n",
       "\n",
       "                6           7           8  \n",
       "count  768.000000  768.000000  768.000000  \n",
       "mean     0.471876   33.240885    0.348958  \n",
       "std      0.331329   11.760232    0.476951  \n",
       "min      0.078000   21.000000    0.000000  \n",
       "25%      0.243750   24.000000    0.000000  \n",
       "50%      0.372500   29.000000    0.000000  \n",
       "75%      0.626250   41.000000    1.000000  \n",
       "max      2.420000   81.000000    1.000000  "
      ]
     },
     "execution_count": 2,
     "metadata": {},
     "output_type": "execute_result"
    }
   ],
   "source": [
    "data=pd.read_csv(\"diabetes2.csv\", header=None)\n",
    "data.describe()\n"
   ]
  },
  {
   "cell_type": "code",
   "execution_count": 3,
   "metadata": {},
   "outputs": [],
   "source": [
    "columns=data.shape[1]\n",
    "\n",
    "total=768\n",
    "train=int(total*0.8)\n",
    "\n",
    "#Training Data 80%\n",
    "#Test Data 20%\n",
    "\n",
    "#Input and output features of Training Data\n",
    "X=data.iloc[0:train,:-1].values\n",
    "y=data.iloc[0:train,columns-1:columns].values\n",
    "m=len(X)#Length of training data\n",
    "X=(X-X.mean())/(X.std())# Normalising the inputs\n"
   ]
  },
  {
   "cell_type": "code",
   "execution_count": 4,
   "metadata": {},
   "outputs": [],
   "source": [
    "#Input and output features of Test Data\n",
    "X1=data.iloc[train:total,:-1].values #iloc is similar to array slicing\n",
    "y1=data.iloc[train:total,columns-1:columns].values\n",
    "\n",
    "X1=(X1-X1.mean())/(X1.std())# Normalising the inputs\n",
    "m1=len(X1)#Length of Test data"
   ]
  },
  {
   "cell_type": "code",
   "execution_count": 5,
   "metadata": {},
   "outputs": [],
   "source": [
    "X=np.hstack((np.ones((m,1)),X))#hstack to add colums\n",
    "X1=np.hstack((np.ones((m1,1)),X1))# adding X0 unit which is one for all rows\n",
    "theta=np.zeros((1,X.shape[1]))\n",
    "Lambda=100"
   ]
  },
  {
   "cell_type": "code",
   "execution_count": 6,
   "metadata": {},
   "outputs": [],
   "source": [
    "def sigmoid(z):\n",
    "    return 1/ (1 + np.exp(-z))# sigmoid function in logistic regression\n"
   ]
  },
  {
   "cell_type": "code",
   "execution_count": 7,
   "metadata": {},
   "outputs": [],
   "source": [
    "def CostFunction(theta,X,y):\n",
    " \n",
    "    predictedvalues = sigmoid(X.dot(theta.T))\n",
    "    costerror =np.multiply(-y,np.log(predictedvalues)) - np.multiply(1-y,np.log(1-predictedvalues))\n",
    "    Cost = (1/m) *(np.sum(costerror))\n",
    "    RegCost = Cost + (Lambda/m) *(np.sum(np.power((theta.T),2))) #Regularising the cost function\n",
    "    \n",
    "    #Finding dJ/dtheta and regularising it also\n",
    "    gradient=1/m * (X.transpose()).dot((predictedvalues - y))\n",
    "    grad1=gradient[0]\n",
    "    grad1=np.array(grad1).reshape(len(grad1),1)\n",
    "    grad2= gradient[1:] + (Lambda/m)* (theta.T[1:])\n",
    "    gradient= np.vstack((grad1,grad2)) # vstack to add rows\n",
    "    \n",
    "    return RegCost, gradient"
   ]
  },
  {
   "cell_type": "code",
   "execution_count": 8,
   "metadata": {},
   "outputs": [
    {
     "name": "stdout",
     "output_type": "stream",
     "text": [
      "Initial Cost value is 0.6931471805599454\n"
     ]
    }
   ],
   "source": [
    "cost,grad=CostFunction(theta,X,y)\n",
    "print(\"Initial Cost value is {}\".format(cost))#theta is initially zero valued matrix\n",
    "alpha=1\n",
    "iterations=1000"
   ]
  },
  {
   "cell_type": "code",
   "execution_count": 9,
   "metadata": {},
   "outputs": [],
   "source": [
    "def GradientDescent(theta,X,y):\n",
    "  \n",
    "    costvalues =np.zeros((iterations,1))#(To store cost values in each iteration)\n",
    "    for i in range(iterations):\n",
    "   \n",
    "        cost,derivative=CostFunction(theta,X,y)# derivative is dJ/dtheta\n",
    "        thetadescent = alpha * (1/m) * derivative.T\n",
    "        theta=theta-thetadescent\n",
    "        costvalues[i]=cost\n",
    "    \n",
    "    return theta,costvalues"
   ]
  },
  {
   "cell_type": "code",
   "execution_count": 10,
   "metadata": {},
   "outputs": [],
   "source": [
    "def predictFunc(theta, X):\n",
    "    lists=[]\n",
    "    predictedvalue = sigmoid(X .dot(theta.T))\n",
    "    for i in predictedvalue:\n",
    "        if i>=0.5:\n",
    "            lists.append(1)\n",
    "        else:\n",
    "            lists.append(0)\n",
    "    return lists\n",
    "\n",
    "\n",
    "\n"
   ]
  },
  {
   "cell_type": "code",
   "execution_count": 11,
   "metadata": {},
   "outputs": [],
   "source": [
    "def findAccuracy(predictedoutput,y):\n",
    "    i=0\n",
    "    lists=[]\n",
    "    for i in range(len(y)):\n",
    "        if(predictedoutput[i]==y[i]):\n",
    "            lists.append(1)\n",
    "        else:\n",
    "            lists.append(0)\n",
    "    return lists\n",
    "        "
   ]
  },
  {
   "cell_type": "code",
   "execution_count": 12,
   "metadata": {},
   "outputs": [],
   "source": [
    "theta, costvalues = GradientDescent(theta,X,y)\n",
    "cost,grad=CostFunction(theta,X,y)#theta is minimised using gradient descent\n"
   ]
  },
  {
   "cell_type": "code",
   "execution_count": 13,
   "metadata": {},
   "outputs": [
    {
     "name": "stdout",
     "output_type": "stream",
     "text": [
      "Training Data Accuracy is 65.79804560260585%\n",
      "Test Data Accuracy is 66.23376623376623%\n"
     ]
    }
   ],
   "source": [
    "#Finding Accuracy for training data\n",
    "predictedoutput = predictFunc(theta, X)\n",
    "Accuracy =(np.sum(findAccuracy(predictedoutput,y))/(len(y)))*(100)\n",
    "print(\"Training Data Accuracy is {}%\".format(Accuracy))\n",
    "\n",
    "\n",
    "#Finding Accuracy for test data\n",
    "predictedoutput = predictFunc(theta, X1)\n",
    "Accuracy =(np.sum(findAccuracy(predictedoutput,y1))/(len(y1)))*(100)\n",
    "print(\"Test Data Accuracy is {}%\".format(Accuracy))\n",
    "\n",
    "\n"
   ]
  },
  {
   "cell_type": "code",
   "execution_count": 14,
   "metadata": {},
   "outputs": [
    {
     "data": {
      "text/plain": [
       "Text(0.5, 1.0, 'Error vs. No of iterations')"
      ]
     },
     "execution_count": 14,
     "metadata": {},
     "output_type": "execute_result"
    },
    {
     "data": {
      "image/png": "[encoded data removed]",
      "text/plain": [
       "<Figure size 864x576 with 1 Axes>"
      ]
     },
     "metadata": {
      "needs_background": "light"
     },
     "output_type": "display_data"
    }
   ],
   "source": [
    "# plot for Squared error and no of iterations\n",
    "import matplotlib.pyplot as py\n",
    "fig,sub = py.subplots(figsize=(12,8))\n",
    "sub.plot(np.arange(1000),costvalues , 'r')\n",
    "sub.set_xlabel('No of Iterations')\n",
    "sub.set_ylabel('Cost Values ')\n",
    "sub.set_title('Error vs. No of iterations')"
   ]
  },
  {
   "cell_type": "code",
   "execution_count": null,
   "metadata": {},
   "outputs": [],
   "source": []
  }
 ],
 "metadata": {
  "kernelspec": {
   "display_name": "Python 3.8.1 64-bit",
   "language": "python",
   "name": "python38164bit9748098de64f4a3daac392bdbec03b70"
  },
  "language_info": {
   "codemirror_mode": {
    "name": "ipython",
    "version": 3
   },
   "file_extension": ".py",
   "mimetype": "text/x-python",
   "name": "python",
   "nbconvert_exporter": "python",
   "pygments_lexer": "ipython3",
   "version": "3.8.1"
  }
 },
 "nbformat": 4,
 "nbformat_minor": 4
}
